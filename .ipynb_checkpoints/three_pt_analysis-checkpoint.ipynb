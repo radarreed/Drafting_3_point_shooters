{
 "cells": [
  {
   "cell_type": "markdown",
   "metadata": {},
   "source": [
    "# How 3 point shooting translates to the NBA from the NCAA and international leagues"
   ]
  },
  {
   "cell_type": "markdown",
   "metadata": {},
   "source": [
    "This project will explore the relationship between 3 point shooting percentages between drafted NBA players and how they performed before being drafted to the NBA when playing either in the NCAA or internationally. The questions I will answer are:\n",
    "\n",
    "- 1) Is there a difference in 3 point shooting percentages between pre NBA leagues and the NBA? To answer this I will use paired t-test and calculate a 95% confidence interval of the expected population difference.\n",
    "    \n",
    "- 2) How easily can NBA 3 point shooting percentage be projected based on pre NBA performance measures? For this I will multiple linear regression. \n",
    "\n",
    "The data used for this analysis was the product of my web scraping project were I gathered the data from basketball-reference.com."
   ]
  },
  {
   "cell_type": "code",
   "execution_count": 1,
   "metadata": {},
   "outputs": [],
   "source": [
    "import urllib.request\n",
    "import pandas as pd\n",
    "import statsmodels.api as sm\n",
    "import unicodedata\n",
    "from itertools import cycle \n",
    "import re\n",
    "import time\n",
    "import numpy as np\n",
    "import pylab\n",
    "import scipy.stats as stats\n",
    "import matplotlib.pyplot as plt\n",
    "import seaborn as sns\n",
    "import random\n",
    "import math\n",
    "from datetime import datetime, timedelta \n",
    "pd.set_option('display.max_rows', 1000)\n",
    "pd.set_option('display.max_columns', 100)\n",
    "path = 'C:/Users/erler/OneDrive/Documents/Random Data Sets/Basketball/Kaggle/'"
   ]
  },
  {
   "cell_type": "markdown",
   "metadata": {},
   "source": [
    "# Load and format data"
   ]
  },
  {
   "cell_type": "code",
   "execution_count": 2,
   "metadata": {},
   "outputs": [
    {
     "name": "stderr",
     "output_type": "stream",
     "text": [
      "C:\\Users\\erler\\anaconda3\\lib\\site-packages\\ipykernel_launcher.py:12: DeprecationWarning: Numeric-style type codes are deprecated and will result in an error in the future.\n",
      "  if sys.path[0] == '':\n"
     ]
    }
   ],
   "source": [
    "drafts = pd.read_csv(path+'Draft_table.csv')\n",
    "drafts.DOB = pd.to_datetime(drafts.DOB)\n",
    "\n",
    "Predraft_stats = pd.read_csv(path+'Pre_NBA_game_logs.csv')\n",
    "Predraft_stats.Rk = pd.to_numeric(Predraft_stats.Rk)\n",
    "Predraft_stats[Predraft_stats.loc[:,'FG':'PTS'].columns.values] = Predraft_stats[Predraft_stats.loc[:,'FG':'PTS'].columns.values].astype('float64')\n",
    "Predraft_stats = Predraft_stats.convert_dtypes(infer_objects=True)\n",
    "Predraft_stats.Date = Predraft_stats.Date.astype('datetime64')\n",
    "Predraft_stats.DOB = pd.to_datetime(Predraft_stats.DOB)\n",
    "#force int64 to float64 for cooperation with statsmodel package\n",
    "for i in Predraft_stats.columns:\n",
    "    if Predraft_stats[i].dtype == 'Int64':\n",
    "        Predraft_stats[i] = Predraft_stats[i].astype('float64')\n",
    "        \n",
    "NBA_stats = pd.read_csv(path+'NBA_game_logs.csv')\n",
    "NBA_stats.MP = pd.to_timedelta(NBA_stats.MP)\n",
    "NBA_stats.Date = pd.to_datetime(NBA_stats.Date)\n",
    "NBA_stats.DOB = pd.to_datetime(NBA_stats.DOB)\n",
    "NBA_stats.Years_pro = round(NBA_stats.Years_pro,0)"
   ]
  },
  {
   "cell_type": "markdown",
   "metadata": {},
   "source": [
    "# Aggregate games data and connect pre NBA stats to NBA stats"
   ]
  },
  {
   "cell_type": "markdown",
   "metadata": {},
   "source": [
    "The code below starts by electing to only include players which have shot a minimum of n=100 3pt shots in each pre NBA leagues as well as the players's first NBA seasons** and at least 100 pre NBA free throw attempts. The code then produces aggregate statistics for each player in each leagues much like a pivot table would in excel. This results in one dataset with 240 players which has one row for each player and includes both preNBA and NBA 3pt shooting percentage.\n",
    "\n",
    "** I chose the first 4 NBA seasons because this is the rookie contract period in the NBA. With the amount of attrition in the NBA it's somewhat irrelevant for the drafting team how a player performs in the second half of their career as they may not be with their original team."
   ]
  },
  {
   "cell_type": "code",
   "execution_count": 3,
   "metadata": {},
   "outputs": [
    {
     "data": {
      "text/plain": [
       "(240, 18)"
      ]
     },
     "execution_count": 3,
     "metadata": {},
     "output_type": "execute_result"
    }
   ],
   "source": [
    "n=100 #set minimum number of three point attempts required to be included in the sample\n",
    "threes_pre = Predraft_stats.groupby(['Player', 'DOB']).agg({'3P':sum, '3PA':sum, \n",
    "        '2P':sum, '2PA':sum, 'FT':sum, 'FTA':sum})#.sort_values(by='PTS', ascending=False)\n",
    "threes_pre['pre3%'] = threes_pre['3P']/threes_pre['3PA']\n",
    "threes_pre['2P%'] = threes_pre['2P']/threes_pre['2PA']\n",
    "threes_pre['pre_FT%'] = threes_pre['FT']/threes_pre['FTA']\n",
    "#threes_pre.sort_values(by='3P%', ascending=False).head(10)\n",
    "\n",
    "threes_nba = NBA_stats.loc[NBA_stats['Years_pro']<=4].groupby(['Player', 'DOB']).agg({'3P':sum, '3PA':sum, 'Years_pro':'max'})#.sort_values(by='PTS', ascending=False)\n",
    "threes_nba['nba3%'] = threes_nba['3P']/threes_nba['3PA']\n",
    "#threes_nba.sort_values(by='3P%', ascending=False)\n",
    "\n",
    "three = pd.merge(threes_nba, threes_pre, left_index=True, right_index=True, suffixes=('_nba', '_pre'))\n",
    "#three = three.rename(columns={'nba3%': 'nba3%', 'pre3%':'pre3%'})\n",
    "\n",
    "three['%_var']=three['nba3%']-three['pre3%']\n",
    "\n",
    "three = three.merge(drafts[['Player', 'DOB','Pro_height', 'Pk']], left_index=True, right_index=False, on=['Player', 'DOB'])\n",
    "\n",
    "three = three.loc[(three['3PA_nba']>n)&(three['FT']>n)&(three['3PA_pre']>n)&(three.isna().sum(axis=1)==0)]\n",
    "three['2PA'] = three['2PA'].astype(float)\n",
    "three['FTA'] = three['FTA'].astype(float)\n",
    "three['3PA_pre'] = three['3PA_pre'].astype(float)\n",
    "\n",
    "three.shape"
   ]
  },
  {
   "cell_type": "code",
   "execution_count": 4,
   "metadata": {},
   "outputs": [
    {
     "data": {
      "text/html": [
       "<div>\n",
       "<style scoped>\n",
       "    .dataframe tbody tr th:only-of-type {\n",
       "        vertical-align: middle;\n",
       "    }\n",
       "\n",
       "    .dataframe tbody tr th {\n",
       "        vertical-align: top;\n",
       "    }\n",
       "\n",
       "    .dataframe thead th {\n",
       "        text-align: right;\n",
       "    }\n",
       "</style>\n",
       "<table border=\"1\" class=\"dataframe\">\n",
       "  <thead>\n",
       "    <tr style=\"text-align: right;\">\n",
       "      <th></th>\n",
       "      <th>Player</th>\n",
       "      <th>DOB</th>\n",
       "      <th>3P_nba</th>\n",
       "      <th>3PA_nba</th>\n",
       "      <th>Years_pro</th>\n",
       "      <th>nba3%</th>\n",
       "      <th>3P_pre</th>\n",
       "      <th>3PA_pre</th>\n",
       "      <th>2P</th>\n",
       "      <th>2PA</th>\n",
       "      <th>FT</th>\n",
       "      <th>FTA</th>\n",
       "      <th>pre3%</th>\n",
       "      <th>2P%</th>\n",
       "      <th>pre_FT%</th>\n",
       "      <th>%_var</th>\n",
       "      <th>Pro_height</th>\n",
       "      <th>Pk</th>\n",
       "    </tr>\n",
       "  </thead>\n",
       "  <tbody>\n",
       "    <tr>\n",
       "      <th>262</th>\n",
       "      <td>aaron-brooks</td>\n",
       "      <td>1985-01-14</td>\n",
       "      <td>455</td>\n",
       "      <td>1253</td>\n",
       "      <td>3.0</td>\n",
       "      <td>0.363128</td>\n",
       "      <td>171.0</td>\n",
       "      <td>456.0</td>\n",
       "      <td>268.0</td>\n",
       "      <td>544.0</td>\n",
       "      <td>271.0</td>\n",
       "      <td>325.0</td>\n",
       "      <td>0.375000</td>\n",
       "      <td>0.492647</td>\n",
       "      <td>0.833846</td>\n",
       "      <td>-0.011872</td>\n",
       "      <td>72.0</td>\n",
       "      <td>26</td>\n",
       "    </tr>\n",
       "    <tr>\n",
       "      <th>919</th>\n",
       "      <td>aaron-holiday</td>\n",
       "      <td>1996-09-30</td>\n",
       "      <td>148</td>\n",
       "      <td>407</td>\n",
       "      <td>2.0</td>\n",
       "      <td>0.363636</td>\n",
       "      <td>180.0</td>\n",
       "      <td>427.0</td>\n",
       "      <td>296.0</td>\n",
       "      <td>631.0</td>\n",
       "      <td>311.0</td>\n",
       "      <td>391.0</td>\n",
       "      <td>0.421546</td>\n",
       "      <td>0.469097</td>\n",
       "      <td>0.795396</td>\n",
       "      <td>-0.057909</td>\n",
       "      <td>72.0</td>\n",
       "      <td>23</td>\n",
       "    </tr>\n",
       "    <tr>\n",
       "      <th>834</th>\n",
       "      <td>abdel-nader</td>\n",
       "      <td>1993-09-25</td>\n",
       "      <td>104</td>\n",
       "      <td>303</td>\n",
       "      <td>4.0</td>\n",
       "      <td>0.343234</td>\n",
       "      <td>128.0</td>\n",
       "      <td>420.0</td>\n",
       "      <td>304.0</td>\n",
       "      <td>686.0</td>\n",
       "      <td>215.0</td>\n",
       "      <td>294.0</td>\n",
       "      <td>0.304762</td>\n",
       "      <td>0.443149</td>\n",
       "      <td>0.731293</td>\n",
       "      <td>0.038472</td>\n",
       "      <td>77.0</td>\n",
       "      <td>58</td>\n",
       "    </tr>\n",
       "    <tr>\n",
       "      <th>247</th>\n",
       "      <td>acie-law</td>\n",
       "      <td>1985-01-25</td>\n",
       "      <td>28</td>\n",
       "      <td>118</td>\n",
       "      <td>3.0</td>\n",
       "      <td>0.237288</td>\n",
       "      <td>80.0</td>\n",
       "      <td>195.0</td>\n",
       "      <td>333.0</td>\n",
       "      <td>638.0</td>\n",
       "      <td>234.0</td>\n",
       "      <td>305.0</td>\n",
       "      <td>0.410256</td>\n",
       "      <td>0.521944</td>\n",
       "      <td>0.767213</td>\n",
       "      <td>-0.172968</td>\n",
       "      <td>75.0</td>\n",
       "      <td>11</td>\n",
       "    </tr>\n",
       "    <tr>\n",
       "      <th>179</th>\n",
       "      <td>adam-morrison</td>\n",
       "      <td>1984-07-19</td>\n",
       "      <td>124</td>\n",
       "      <td>377</td>\n",
       "      <td>3.0</td>\n",
       "      <td>0.328912</td>\n",
       "      <td>95.0</td>\n",
       "      <td>255.0</td>\n",
       "      <td>368.0</td>\n",
       "      <td>680.0</td>\n",
       "      <td>306.0</td>\n",
       "      <td>400.0</td>\n",
       "      <td>0.372549</td>\n",
       "      <td>0.541176</td>\n",
       "      <td>0.765000</td>\n",
       "      <td>-0.043637</td>\n",
       "      <td>80.0</td>\n",
       "      <td>3</td>\n",
       "    </tr>\n",
       "  </tbody>\n",
       "</table>\n",
       "</div>"
      ],
      "text/plain": [
       "            Player        DOB  3P_nba  3PA_nba  Years_pro     nba3%  3P_pre  \\\n",
       "262   aaron-brooks 1985-01-14     455     1253        3.0  0.363128   171.0   \n",
       "919  aaron-holiday 1996-09-30     148      407        2.0  0.363636   180.0   \n",
       "834    abdel-nader 1993-09-25     104      303        4.0  0.343234   128.0   \n",
       "247       acie-law 1985-01-25      28      118        3.0  0.237288    80.0   \n",
       "179  adam-morrison 1984-07-19     124      377        3.0  0.328912    95.0   \n",
       "\n",
       "     3PA_pre     2P    2PA     FT    FTA     pre3%       2P%   pre_FT%  \\\n",
       "262    456.0  268.0  544.0  271.0  325.0  0.375000  0.492647  0.833846   \n",
       "919    427.0  296.0  631.0  311.0  391.0  0.421546  0.469097  0.795396   \n",
       "834    420.0  304.0  686.0  215.0  294.0  0.304762  0.443149  0.731293   \n",
       "247    195.0  333.0  638.0  234.0  305.0  0.410256  0.521944  0.767213   \n",
       "179    255.0  368.0  680.0  306.0  400.0  0.372549  0.541176  0.765000   \n",
       "\n",
       "        %_var  Pro_height  Pk  \n",
       "262 -0.011872        72.0  26  \n",
       "919 -0.057909        72.0  23  \n",
       "834  0.038472        77.0  58  \n",
       "247 -0.172968        75.0  11  \n",
       "179 -0.043637        80.0   3  "
      ]
     },
     "execution_count": 4,
     "metadata": {},
     "output_type": "execute_result"
    }
   ],
   "source": [
    "three.head()"
   ]
  },
  {
   "cell_type": "markdown",
   "metadata": {},
   "source": [
    "# Understanding distribution of percentages"
   ]
  },
  {
   "cell_type": "markdown",
   "metadata": {},
   "source": [
    "In the plot below we see the overlapping distributions of NBA 3pt shooting percentages and Pre NBA 3pt shooting percentages. Although not a perfect normal distribution curve it appears to be quite normal considering we have 240 players in our sample set which has been limited to players who attempted at least 100 three point shots prior to the NBA and in the NBA. However, we will take more formal measures of the normality of the distribution to see if we can invoke the central limit theorum when choosing a statistical test for hypothesis testing."
   ]
  },
  {
   "cell_type": "code",
   "execution_count": 5,
   "metadata": {},
   "outputs": [
    {
     "data": {
      "image/png": "[encoded data removed]",
      "text/plain": [
       "<Figure size 432x288 with 1 Axes>"
      ]
     },
     "metadata": {
      "needs_background": "light"
     },
     "output_type": "display_data"
    },
    {
     "data": {
      "text/plain": [
       "<Figure size 432x288 with 0 Axes>"
      ]
     },
     "metadata": {},
     "output_type": "display_data"
    }
   ],
   "source": [
    "sns.distplot(three['nba3%'].dropna(), label='nba3%', bins = 15)\n",
    "sns.distplot(three['pre3%'].dropna(), label='pre3%', bins = 15)\n",
    "plt.gca().set(title='Comparison of 3pt% distributions', xlabel='3pt %')\n",
    "plt.legend()\n",
    "plt.show()\n",
    "plt.savefig(path+'hist.png')"
   ]
  },
  {
   "cell_type": "markdown",
   "metadata": {},
   "source": [
    "# Tests for a normality in the distribution of three point percentages"
   ]
  },
  {
   "cell_type": "markdown",
   "metadata": {},
   "source": [
    "### QQ Plot (Quantile Quantile)"
   ]
  },
  {
   "cell_type": "markdown",
   "metadata": {},
   "source": [
    "In a QQ plot, the we look to see that the plotted values stick closely to the red line which represents a perfectly normal distribution. Both distributions appear to follow a reasonably normal distribution."
   ]
  },
  {
   "cell_type": "code",
   "execution_count": 6,
   "metadata": {},
   "outputs": [
    {
     "data": {
      "image/png": "[encoded data removed]",
      "text/plain": [
       "<Figure size 432x288 with 1 Axes>"
      ]
     },
     "metadata": {
      "needs_background": "light"
     },
     "output_type": "display_data"
    }
   ],
   "source": [
    "stats.probplot(three['nba3%'], dist='norm', plot=pylab) \n",
    "plt.gca().set(title='QQ Plot for NBA 3pt shooting %', ylabel='3pt %')\n",
    "pylab.show()"
   ]
  },
  {
   "cell_type": "code",
   "execution_count": 7,
   "metadata": {},
   "outputs": [
    {
     "data": {
      "image/png": "[encoded data removed]",
      "text/plain": [
       "<Figure size 432x288 with 1 Axes>"
      ]
     },
     "metadata": {
      "needs_background": "light"
     },
     "output_type": "display_data"
    }
   ],
   "source": [
    "stats.probplot(three['pre3%'], dist='norm', plot=pylab) \n",
    "plt.gca().set(title='QQ Plot for pre NBA 3pt shooting %', ylabel='3pt %')\n",
    "pylab.show()"
   ]
  },
  {
   "cell_type": "markdown",
   "metadata": {},
   "source": [
    "### Shapiro-wilks test (Most highly recommended test for normality)"
   ]
  },
  {
   "cell_type": "markdown",
   "metadata": {},
   "source": [
    "The shapiro wilks test is a hypothisis test which compares a p-value to an alpha value, which is normally .05. In this case the null hypothesis is that the distributions are normally distributed. We would be suprised to see a p-value below .05 and would reject the null hypothesis if observed. Below we have p-values of .135 and .265 which suggests that there is not enough evidence to reject the null hypothesis, that these populations are not normally distributed. "
   ]
  },
  {
   "cell_type": "code",
   "execution_count": 8,
   "metadata": {},
   "outputs": [
    {
     "name": "stdout",
     "output_type": "stream",
     "text": [
      "p-value NBA 3pt%:  0.13526523113250732\n",
      "p-value pre NBA 3pt%:  0.2653345763683319\n"
     ]
    }
   ],
   "source": [
    "stat, pval_nba3 = stats.shapiro(three['nba3%'])\n",
    "print('p-value NBA 3pt%: ', pval_nba3)\n",
    "\n",
    "stat, pval_pre3 = stats.shapiro(three['pre3%'])\n",
    "print('p-value pre NBA 3pt%: ', pval_pre3)"
   ]
  },
  {
   "cell_type": "markdown",
   "metadata": {},
   "source": [
    "# Analysis of the variances between pre NBA and NBA 3pt shooting"
   ]
  },
  {
   "cell_type": "markdown",
   "metadata": {},
   "source": [
    "There have been 240 players between 2003 and 2020 who have attempted at least 100 threes both pre NBA and in the NBA in their first 4 NBA seasons. Of these players 68% have regressed in percentage. The ave average regression is 1.87% from 36.2% in college to 34.32% in the NBA. \n",
    "\n",
    "Of those 164 players who regressed, they had a mean pre NBA three point percentage of 37.7% and decreased by an average of 4.2% to 33.5%. Of those who improved, they had a mean three point percentage of 32.9% and increased by an average of 3.3% to 36.2%.\n",
    "\n",
    "This leads me to a hypothesis that perhaps those who shot the 3 at a high percentage in college were lucky to some extent and this doesn't necessarly mean they will be able to sustain this percentage in the pros. And vice-versa, those who shot poorly and college may be more likely to improve in the pros. I will also examine the reverse vantage point by seperating players into two groups based on whether they shot above the NBA three point average or below. I will then see how their college percentages compare to their NBA percentages. Ultimately, we want to understand if players with low pre-nba 3pt percentages should be avoided and if those with high pre-nba 3pt percentages will convert to high percentage nba 3pt shooters. "
   ]
  },
  {
   "cell_type": "code",
   "execution_count": 9,
   "metadata": {},
   "outputs": [
    {
     "name": "stdout",
     "output_type": "stream",
     "text": [
      "players: 240\n",
      "% who regressed: 68.33%\n",
      "Ave 3% NBA: 34.32%\n",
      "Ave 3% Pre_NBA: 36.20%\n",
      "Ave Regression: 1.87%\n"
     ]
    }
   ],
   "source": [
    "improved = three.loc[three['%_var']>=0]\n",
    "regressed = three.loc[three['%_var']<0]\n",
    "\n",
    "print('players:', len(three))\n",
    "print('% who regressed: {:.2%}'.format(len(regressed)/len(three)))\n",
    "print('Ave 3% NBA: {:.2%}'.format(three['nba3%'].mean()))\n",
    "print('Ave 3% Pre_NBA: {:.2%}'.format(three['pre3%'].mean()))\n",
    "print('Ave Regression: {:.2%}'.format(three['pre3%'].mean()-three['nba3%'].mean()))"
   ]
  },
  {
   "cell_type": "markdown",
   "metadata": {},
   "source": [
    "# Paired T-Test and confidence of mean difference"
   ]
  },
  {
   "cell_type": "markdown",
   "metadata": {},
   "source": [
    "In this section, I will answer the question as to whether or not there enough evidence to prove that players generally shoot the 3pt shot less successfully than in the NBA than in the NCAA or international league play. While we know that on average players make 1.87% less of their 3pt shots, the mean difference is not necessarily a robust measure to prove this difference. Therefore, we will use a paired t-test to assess this difference and provide a range of possible mean variances at the 95% confidence level. A paired t-test is chosen because each player has an observation in each pre NBA and NBA. "
   ]
  },
  {
   "cell_type": "markdown",
   "metadata": {},
   "source": [
    "### Assumptions"
   ]
  },
  {
   "cell_type": "markdown",
   "metadata": {},
   "source": [
    "- Dependent variable is countinuous: Yes\n",
    "\n",
    "- Samples are independent: Yes, two completely different leagues.\n",
    "\n",
    "- The variances between the shooting percentages follow a normal distribution when assessed as a collective. Below is a histogram of the variance of shooting percentages between pre NBA and the NBA. It's clear the majority of players declined and these variances are normally distributed. The shapiro-wilks tests confirms this with a p-value of .38, which is not enough to reject the null hypothesis. Had the normality assumption been violated the  Wilcoxon signed-rank Test could be used."
   ]
  },
  {
   "cell_type": "code",
   "execution_count": 10,
   "metadata": {},
   "outputs": [
    {
     "data": {
      "text/plain": [
       "<matplotlib.collections.LineCollection at 0x1da43ff07c8>"
      ]
     },
     "execution_count": 10,
     "metadata": {},
     "output_type": "execute_result"
    },
    {
     "data": {
      "image/png": "[encoded data removed]",
      "text/plain": [
       "<Figure size 432x288 with 1 Axes>"
      ]
     },
     "metadata": {
      "needs_background": "light"
     },
     "output_type": "display_data"
    }
   ],
   "source": [
    "three['%_var']\n",
    "three['%_var'].hist(bins=30)\n",
    "plt.gca().set(title='Histogram of variances between pre NBA and NBA by player', xlabel='3pt % variance')\n",
    "plt.vlines(0, ymin=0, ymax=30, colors='red')"
   ]
  },
  {
   "cell_type": "code",
   "execution_count": 11,
   "metadata": {},
   "outputs": [
    {
     "name": "stdout",
     "output_type": "stream",
     "text": [
      "p-value variances by player for 3pt%:  0.3797999620437622\n"
     ]
    }
   ],
   "source": [
    "stat, pval = stats.shapiro(three['%_var'])\n",
    "print('p-value variances by player for 3pt%: ', pval)"
   ]
  },
  {
   "cell_type": "markdown",
   "metadata": {},
   "source": [
    "### Executing the paired t-test"
   ]
  },
  {
   "cell_type": "markdown",
   "metadata": {},
   "source": [
    "The p-value is well below the .05 alpha threshold for rejecting the null hypothesis. Therefore, we conclude that there is a difference in populations. At the 95% confidence level, we estimate that NBA 3 point shooting percentage is between 1.6% and 2.2% lower than observed for draft selections in their NCAA and overseas league play.  "
   ]
  },
  {
   "cell_type": "code",
   "execution_count": 12,
   "metadata": {},
   "outputs": [
    {
     "name": "stdout",
     "output_type": "stream",
     "text": [
      "p-value:  2.7781963268912806e-22\n"
     ]
    }
   ],
   "source": [
    "stat, pval = stats.ttest_rel(a=three['3P_nba'], b=three['3P_pre'])\n",
    "print('p-value: ', pval)"
   ]
  },
  {
   "cell_type": "code",
   "execution_count": 13,
   "metadata": {},
   "outputs": [
    {
     "name": "stdout",
     "output_type": "stream",
     "text": [
      "mean difference -0.019\n",
      "lower bound -0.016\n",
      "upper bound -0.022\n"
     ]
    }
   ],
   "source": [
    "mean_variance = three['%_var'].mean()\n",
    "standard_deviation = three['%_var'].std()\n",
    "n = len(three['%_var'])\n",
    "print('mean difference', round(three['%_var'].mean(),3))\n",
    "print('lower bound', round(mean_variance+standard_deviation/np.sqrt(n), 3))\n",
    "print('upper bound', round(mean_variance-standard_deviation/np.sqrt(n), 3))"
   ]
  },
  {
   "cell_type": "markdown",
   "metadata": {},
   "source": [
    "# Is pre NBA 3pt% a good predictor of NBA 3pt%?"
   ]
  },
  {
   "cell_type": "code",
   "execution_count": 14,
   "metadata": {},
   "outputs": [
    {
     "name": "stdout",
     "output_type": "stream",
     "text": [
      "Correlation between pre NBA and NBA: 0.356\n"
     ]
    }
   ],
   "source": [
    "print('Correlation between pre NBA and NBA: {:.3}'.format(three[['nba3%', 'pre3%']].corr(method='pearson').iloc[0,1]))"
   ]
  },
  {
   "cell_type": "markdown",
   "metadata": {},
   "source": [
    "Right out of the gates we see that at .356, pre NBA 3pt% has a relatively weak correlation with NBA 3pt% performance. But what does that mean exactly? The graph below plots the 3pt% of pre NBA players from lowest to highest percentages (blue) along with how they performed in the NBA (orange dots) and the moving average of these NBA 3pt% actuals (orange line). Notice that there is only a slight upward trend in the moving average for NBA 3pt% as it is compared with the increasing pre NBA performance. \n",
    "\n",
    "This means that how a player shoots in the NCAA and overseas provides little assurance as to how they will shoot the ball from beyond the 3pt line in the NBA.\n",
    "\n",
    "At around 33% we see a cross over point which means that if a player shot less than 33% pre NBA it's likely they will increase their percentage in the NBA and vice versa. "
   ]
  },
  {
   "cell_type": "code",
   "execution_count": 15,
   "metadata": {},
   "outputs": [
    {
     "data": {
      "image/png": "[encoded data removed]",
      "text/plain": [
       "<Figure size 720x360 with 1 Axes>"
      ]
     },
     "metadata": {
      "needs_background": "light"
     },
     "output_type": "display_data"
    }
   ],
   "source": [
    "window=40\n",
    "\n",
    "fig, ax = plt.subplots(1, 1, figsize=(10, 5))\n",
    "df = three[['pre3%', 'nba3%']].sort_values(by='pre3%').reset_index(drop=True).reset_index()\n",
    "nba = df['nba3%'].rolling(window=window, center= True, min_periods=1).mean()\n",
    "\n",
    "\n",
    "plt.scatter(x=df['index'], y=df['nba3%'], color='bisque', label='NBA_rookie_contract_actual')\n",
    "plt.plot(df['pre3%'], label='Pre_NBA', color='steelblue')\n",
    "plt.plot(nba, label='NBA_rookie_contract_moving_average', color='darkorange')\n",
    "plt.gca().set(title='Pre NBA to NBA translation', ylabel='3pt %', xlabel='From lowest to highest pre NBA 3pt%')\n",
    "plt.legend();"
   ]
  },
  {
   "cell_type": "markdown",
   "metadata": {},
   "source": [
    "# If Pre_NBA 3pt % isn't a good predictor, what is?"
   ]
  },
  {
   "cell_type": "markdown",
   "metadata": {},
   "source": [
    "Here I will examine possible predictors for association with NBA 3pt%. Here we see that pre NBA free throw percentage has a stronger correlation with NBA 3pt% at .439. Additionally, there is a weak correlation between the number of 3pt attempts a player took in college vs NBA 3pt%. This makes sense given that a player would be allowed more attempts if the team has confidence in their ability to shoot the three.  "
   ]
  },
  {
   "cell_type": "code",
   "execution_count": 16,
   "metadata": {},
   "outputs": [
    {
     "data": {
      "text/plain": [
       "nba3%         1.000000\n",
       "pre3%         0.356082\n",
       "2P%          -0.011514\n",
       "pre_FT%       0.438803\n",
       "Pk            0.022045\n",
       "2PA           0.012329\n",
       "FTA          -0.005662\n",
       "3PA_pre       0.315754\n",
       "Pro_height   -0.042994\n",
       "Name: nba3%, dtype: float64"
      ]
     },
     "execution_count": 16,
     "metadata": {},
     "output_type": "execute_result"
    }
   ],
   "source": [
    "three[['nba3%', 'pre3%', '2P%', 'pre_FT%', 'Pk', '2PA', 'FTA', '3PA_pre', 'Pro_height']].corr()['nba3%']"
   ]
  },
  {
   "cell_type": "markdown",
   "metadata": {},
   "source": [
    "# Multiple-linear regression"
   ]
  },
  {
   "cell_type": "markdown",
   "metadata": {},
   "source": [
    "Here I will do a make a quick multiple linear model of this data using the three correlated variables previously identified. First, I will check that the variables do not have multicollinearity. This is when independent variables have a correlation greater than .7. In this case, .52 is the highest and I am not concerned by this."
   ]
  },
  {
   "cell_type": "code",
   "execution_count": 17,
   "metadata": {},
   "outputs": [
    {
     "data": {
      "text/plain": [
       "<matplotlib.axes._subplots.AxesSubplot at 0x1da4478e9c8>"
      ]
     },
     "execution_count": 17,
     "metadata": {},
     "output_type": "execute_result"
    },
    {
     "data": {
      "image/png": "[encoded data removed]",
      "text/plain": [
       "<Figure size 432x288 with 2 Axes>"
      ]
     },
     "metadata": {
      "needs_background": "light"
     },
     "output_type": "display_data"
    }
   ],
   "source": [
    "num_correlation = three[['nba3%', 'pre3%','pre_FT%', '3PA_pre']].corr()\n",
    "plt.title('High Correlation')\n",
    "plt.rc('font', size=8) \n",
    "sns.heatmap(data=num_correlation, cmap=\"YlGnBu\", annot=True, fmt=\".2\")"
   ]
  },
  {
   "cell_type": "code",
   "execution_count": 18,
   "metadata": {},
   "outputs": [
    {
     "name": "stdout",
     "output_type": "stream",
     "text": [
      "                                 OLS Regression Results                                \n",
      "=======================================================================================\n",
      "Dep. Variable:                  nba3%   R-squared (uncentered):                   0.990\n",
      "Model:                            OLS   Adj. R-squared (uncentered):              0.990\n",
      "Method:                 Least Squares   F-statistic:                              7900.\n",
      "Date:                Fri, 29 Jan 2021   Prob (F-statistic):                   3.80e-237\n",
      "Time:                        17:32:29   Log-Likelihood:                          468.52\n",
      "No. Observations:                 240   AIC:                                     -931.0\n",
      "Df Residuals:                     237   BIC:                                     -920.6\n",
      "Df Model:                           3                                                  \n",
      "Covariance Type:            nonrobust                                                  \n",
      "==============================================================================\n",
      "                 coef    std err          t      P>|t|      [0.025      0.975]\n",
      "------------------------------------------------------------------------------\n",
      "pre3%          0.2067      0.060      3.421      0.001       0.088       0.326\n",
      "pre_FT%        0.3433      0.028     12.089      0.000       0.287       0.399\n",
      "3PA_pre     1.619e-05   1.32e-05      1.230      0.220   -9.74e-06    4.21e-05\n",
      "==============================================================================\n",
      "Omnibus:                        3.285   Durbin-Watson:                   2.108\n",
      "Prob(Omnibus):                  0.194   Jarque-Bera (JB):                3.320\n",
      "Skew:                          -0.135   Prob(JB):                        0.190\n",
      "Kurtosis:                       3.509   Cond. No.                     1.12e+04\n",
      "==============================================================================\n",
      "\n",
      "Warnings:\n",
      "[1] Standard Errors assume that the covariance matrix of the errors is correctly specified.\n",
      "[2] The condition number is large, 1.12e+04. This might indicate that there are\n",
      "strong multicollinearity or other numerical problems.\n"
     ]
    }
   ],
   "source": [
    "import statsmodels.api as sm\n",
    "ols_model = sm.OLS(three['nba3%'], three[['pre3%', 'pre_FT%', '3PA_pre']])\n",
    "ols_results = ols_model.fit()\n",
    "print(ols_results.summary())"
   ]
  },
  {
   "cell_type": "markdown",
   "metadata": {},
   "source": [
    "# Error distribution"
   ]
  },
  {
   "cell_type": "markdown",
   "metadata": {},
   "source": [
    "In any model it's important to verify that the residuals are equally distributed. The model appears to satisfy this requirement in the plot below. "
   ]
  },
  {
   "cell_type": "code",
   "execution_count": 19,
   "metadata": {},
   "outputs": [
    {
     "data": {
      "text/plain": [
       "<matplotlib.axes._subplots.AxesSubplot at 0x1da45086908>"
      ]
     },
     "execution_count": 19,
     "metadata": {},
     "output_type": "execute_result"
    },
    {
     "data": {
      "image/png": "[encoded data removed]",
      "text/plain": [
       "<Figure size 432x288 with 1 Axes>"
      ]
     },
     "metadata": {
      "needs_background": "light"
     },
     "output_type": "display_data"
    }
   ],
   "source": [
    "sns.residplot(x=three['nba3%'], y=ols_results.resid, lowess=True)"
   ]
  },
  {
   "cell_type": "markdown",
   "metadata": {},
   "source": [
    "# Results"
   ]
  },
  {
   "cell_type": "markdown",
   "metadata": {},
   "source": [
    "The median absolute error of each prediction 3pt% prediction 2.13% points. This equates to a correlation .475, \n",
    "which is slightly better than .439 correlation from if we had made predictions using only free throw percentage.\n",
    "\n",
    "All in all, we learned that it's more important to judge a future NBA 3 point shooter by their prior performance shooting free throws than it is their 3 point shot... oddly enough. Additionally, given the relatively weak ability to predict 3 point shooting percentage. It would be unwise to place too much emphasis in a player's shooting ability pre NBA. There is a lot of evidence suggesting that low performers can improve and high performers will not always sustain this ability. Perhaps their are other traits which are easier to predict how they translate to the NBA than 3 point shooting. Thanks for reading and I hope you enjoyed it."
   ]
  },
  {
   "cell_type": "code",
   "execution_count": 20,
   "metadata": {},
   "outputs": [
    {
     "data": {
      "text/plain": [
       "0.0213238452701692"
      ]
     },
     "execution_count": 20,
     "metadata": {},
     "output_type": "execute_result"
    }
   ],
   "source": [
    "sm.tools.eval_measures.medianabs(ols_results.fittedvalues, three['nba3%']) #median absolute error"
   ]
  },
  {
   "cell_type": "code",
   "execution_count": 21,
   "metadata": {},
   "outputs": [
    {
     "data": {
      "text/plain": [
       "0.47547847777253915"
      ]
     },
     "execution_count": 21,
     "metadata": {},
     "output_type": "execute_result"
    }
   ],
   "source": [
    "np.corrcoef(ols_results.fittedvalues, three['nba3%'])[1][0] #correlation"
   ]
  }
 ],
 "metadata": {
  "kernelspec": {
   "display_name": "Python 3",
   "language": "python",
   "name": "python3"
  },
  "language_info": {
   "codemirror_mode": {
    "name": "ipython",
    "version": 3
   },
   "file_extension": ".py",
   "mimetype": "text/x-python",
   "name": "python",
   "nbconvert_exporter": "python",
   "pygments_lexer": "ipython3",
   "version": "3.7.6"
  }
 },
 "nbformat": 4,
 "nbformat_minor": 4
}
